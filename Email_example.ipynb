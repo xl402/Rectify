{
 "cells": [
  {
   "cell_type": "code",
   "execution_count": 3,
   "metadata": {},
   "outputs": [],
   "source": [
    "import smtplib\n",
    "import os\n",
    "import json"
   ]
  },
  {
   "cell_type": "code",
   "execution_count": 13,
   "metadata": {},
   "outputs": [],
   "source": [
    "with open('secrete.json') as json_file:\n",
    "    env_variables = json.load(json_file)\n",
    "    os.environ['EMAIL_ADD'] = env_variables['EMAIL_ADD']\n",
    "    os.environ['EMAIL_PASS'] = env_variables['EMAIL_PASS']"
   ]
  },
  {
   "cell_type": "code",
   "execution_count": 14,
   "metadata": {},
   "outputs": [],
   "source": [
    "EMAIL_ADD = os.environ.get('EMAIL_ADD')\n",
    "EMAIL_PASS = os.environ.get('EMAIL_PASS')"
   ]
  },
  {
   "cell_type": "code",
   "execution_count": null,
   "metadata": {},
   "outputs": [],
   "source": [
    "with smtplib.SMTP('smtp.gmail.com', 587) as smtp:\n",
    "    smtp.ehlo()\n",
    "    smtp.starttls() # encrypt traffic\n",
    "    smtp.ehlo()\n",
    "    \n",
    "    smtp.login()"
   ]
  }
 ],
 "metadata": {
  "kernelspec": {
   "display_name": "Python 3",
   "language": "python",
   "name": "python3"
  },
  "language_info": {
   "codemirror_mode": {
    "name": "ipython",
    "version": 3
   },
   "file_extension": ".py",
   "mimetype": "text/x-python",
   "name": "python",
   "nbconvert_exporter": "python",
   "pygments_lexer": "ipython3",
   "version": "3.7.6"
  }
 },
 "nbformat": 4,
 "nbformat_minor": 2
}
