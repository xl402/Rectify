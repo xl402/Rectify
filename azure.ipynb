{
 "cells": [
  {
   "cell_type": "code",
   "execution_count": 2,
   "metadata": {},
   "outputs": [],
   "source": [
    "import os, uuid\n",
    "from azure.storage.blob import BlobServiceClient, BlobClient, ContainerClient\n",
    "import json\n",
    "import time\n",
    "import pickle\n",
    "import os\n",
    "import skimage as sk\n",
    "from skimage import io\n",
    "import matplotlib.pyplot as plt\n",
    "from skimage.metrics import structural_similarity as ssim\n",
    "\n",
    "\n",
    "with open('secret.json') as json_file:\n",
    "    env_variables = json.load(json_file)\n",
    "    os.environ['EMAIL_ADD'] = env_variables['EMAIL_ADD']\n",
    "    os.environ['EMAIL_PASS'] = env_variables['EMAIL_PASS']\n",
    "    os.environ['AZURE'] = env_variables['AZURE']"
   ]
  },
  {
   "cell_type": "code",
   "execution_count": 3,
   "metadata": {},
   "outputs": [],
   "source": [
    "azure_key = os.environ.get('AZURE')\n",
    "blob_service_client = BlobServiceClient.from_connection_string(azure_key)"
   ]
  },
  {
   "cell_type": "code",
   "execution_count": 4,
   "metadata": {},
   "outputs": [],
   "source": [
    "containers = blob_service_client.list_containers() \n",
    "cs = {}\n",
    "for c in containers:\n",
    "    cs[c.name] = c.last_modified\n",
    "container_name = sorted(cs, key=cs.get, reverse=True)[0]"
   ]
  },
  {
   "cell_type": "raw",
   "metadata": {},
   "source": [
    "container_client = blob_service_client.get_container_client(container_name)"
   ]
  },
  {
   "cell_type": "raw",
   "metadata": {},
   "source": [
    "container_client.list_blobs()\n",
    "blobs = []\n",
    "for i in container_client.list_blobs():\n",
    "    blobs.append(i)\n",
    "print(len(blobs))"
   ]
  },
  {
   "cell_type": "code",
   "execution_count": 5,
   "metadata": {},
   "outputs": [
    {
     "data": {
      "text/plain": [
       "'containerb24e111d-6a02-46db-a660-676585ad6537'"
      ]
     },
     "execution_count": 5,
     "metadata": {},
     "output_type": "execute_result"
    }
   ],
   "source": [
    "container_name"
   ]
  },
  {
   "cell_type": "code",
   "execution_count": 11,
   "metadata": {},
   "outputs": [
    {
     "name": "stdout",
     "output_type": "stream",
     "text": [
      "Num blobs: 0\n",
      "Num blobs: 0\n",
      "Num blobs: 1\n",
      "0.558938954092395\n",
      "New event found!!!!\n",
      "Num blobs: 1\n",
      "Num blobs: 2\n",
      "1.0\n",
      "Num blobs: 3\n",
      "0.6443994871672962\n",
      "New event found!!!!\n",
      "Num blobs: 4\n",
      "0.7386093829067978\n",
      "Num blobs: 5\n",
      "0.724245107258496\n",
      "Num blobs: 5\n"
     ]
    },
    {
     "ename": "KeyboardInterrupt",
     "evalue": "",
     "output_type": "error",
     "traceback": [
      "\u001b[0;31m---------------------------------------------------------------------------\u001b[0m",
      "\u001b[0;31mKeyboardInterrupt\u001b[0m                         Traceback (most recent call last)",
      "\u001b[0;32m<ipython-input-11-cd444106ae31>\u001b[0m in \u001b[0;36m<module>\u001b[0;34m\u001b[0m\n\u001b[1;32m      3\u001b[0m \u001b[0;34m\u001b[0m\u001b[0m\n\u001b[1;32m      4\u001b[0m \u001b[0;32mwhile\u001b[0m \u001b[0;32mTrue\u001b[0m\u001b[0;34m:\u001b[0m\u001b[0;34m\u001b[0m\u001b[0;34m\u001b[0m\u001b[0m\n\u001b[0;32m----> 5\u001b[0;31m     \u001b[0mtime\u001b[0m\u001b[0;34m.\u001b[0m\u001b[0msleep\u001b[0m\u001b[0;34m(\u001b[0m\u001b[0;36m5\u001b[0m\u001b[0;34m)\u001b[0m\u001b[0;34m\u001b[0m\u001b[0;34m\u001b[0m\u001b[0m\n\u001b[0m\u001b[1;32m      6\u001b[0m     \u001b[0;31m# new container client\u001b[0m\u001b[0;34m\u001b[0m\u001b[0;34m\u001b[0m\u001b[0;34m\u001b[0m\u001b[0m\n\u001b[1;32m      7\u001b[0m     \u001b[0mcontainer_client\u001b[0m \u001b[0;34m=\u001b[0m \u001b[0mblob_service_client\u001b[0m\u001b[0;34m.\u001b[0m\u001b[0mget_container_client\u001b[0m\u001b[0;34m(\u001b[0m\u001b[0mcontainer_name\u001b[0m\u001b[0;34m)\u001b[0m\u001b[0;34m\u001b[0m\u001b[0;34m\u001b[0m\u001b[0m\n",
      "\u001b[0;31mKeyboardInterrupt\u001b[0m: "
     ]
    }
   ],
   "source": [
    "image_history = []\n",
    "SSIM_THRESH = 0.5\n",
    "\n",
    "while True:\n",
    "    time.sleep(5)\n",
    "    # new container client\n",
    "    container_client = blob_service_client.get_container_client(container_name)\n",
    "    container_client.list_blobs()\n",
    "    blobs = []\n",
    "    for i in container_client.list_blobs():\n",
    "        blobs.append(i)\n",
    "    print(\"Num blobs: {}\".format(len(blobs)))\n",
    "    \n",
    "    for blob in container_client.list_blobs():\n",
    "        name = blob['name']\n",
    "        if name not in image_history:\n",
    "            blob_client = blob_service_client.get_blob_client(container=container_name, blob=name)\n",
    "            # save current image\n",
    "            with open('real_time/{}.jpg'.format(int(time.time())), 'wb') as f:\n",
    "                f.write(blob_client.download_blob().readall())\n",
    "            time.sleep(1)\n",
    "            if len(os.listdir('real_time'))!=0:\n",
    "                last_img = sorted(os.listdir('real_time'))[-2]\n",
    "                if last_img != '.DS_Store':\n",
    "                    last_img = io.imread('real_time/{}'.format(last_img))\n",
    "                    current_img = sorted(os.listdir('real_time'))[-1]\n",
    "                    current_img = io.imread('real_time/{}'.format(current_img))\n",
    "                    sim_idx = ssim(last_img, current_img, multichannel=True)\n",
    "                    print(sim_idx)\n",
    "                    if sim_idx <= 0.7:\n",
    "                        print(\"New event found!!!!\")\n",
    "            image_history.append(name)\n",
    "    "
   ]
  },
  {
   "cell_type": "raw",
   "metadata": {},
   "source": [
    "SSIM_THRESH = 0.5\n",
    "image_history = []\n",
    "\n",
    "for blob in container_client.list_blobs():\n",
    "    name = blob['name']\n",
    "    if name not in image_history:\n",
    "        blob_client = blob_service_client.get_blob_client(container=container_name, blob=name)\n",
    "        # save current image\n",
    "        with open('real_time/{}.jpg'.format(int(time.time())), 'wb') as f:\n",
    "            f.write(blob_client.download_blob().readall())\n",
    "        time.sleep(1)\n",
    "        if len(os.listdir('real_time'))!=0:\n",
    "            last_img = sorted(os.listdir('real_time'))[-2]\n",
    "            if last_img != '.DS_Store':\n",
    "                last_img = io.imread('real_time/{}'.format(last_img))\n",
    "                current_img = sorted(os.listdir('real_time'))[-1]\n",
    "                current_img = io.imread('real_time/{}'.format(current_img))\n",
    "                sim_idx = ssim(last_img, current_img, multichannel=True)\n",
    "                \n",
    "                if sim_idx <= 0.6:\n",
    "                    print(\"New event found!!!!\")\n",
    "        image_history.append(name)\n",
    "        "
   ]
  },
  {
   "cell_type": "code",
   "execution_count": 12,
   "metadata": {},
   "outputs": [],
   "source": [
    "current_img = io.imread('real_time/1579399382.jpg')\n",
    "last_img = io.imread('real_time/1579399390.jpg')"
   ]
  },
  {
   "cell_type": "code",
   "execution_count": 14,
   "metadata": {},
   "outputs": [],
   "source": [
    "import numpy as np\n",
    "from scipy import signal"
   ]
  },
  {
   "cell_type": "code",
   "execution_count": null,
   "metadata": {},
   "outputs": [],
   "source": [
    "corr = signal.correlate2d(current_img[:,:,0], last_img[:,:,0])"
   ]
  },
  {
   "cell_type": "code",
   "execution_count": null,
   "metadata": {},
   "outputs": [],
   "source": [
    "plt.imshow(corr, cmap='gray')"
   ]
  },
  {
   "cell_type": "code",
   "execution_count": null,
   "metadata": {},
   "outputs": [],
   "source": []
  }
 ],
 "metadata": {
  "kernelspec": {
   "display_name": "Python 3",
   "language": "python",
   "name": "python3"
  },
  "language_info": {
   "codemirror_mode": {
    "name": "ipython",
    "version": 3
   },
   "file_extension": ".py",
   "mimetype": "text/x-python",
   "name": "python",
   "nbconvert_exporter": "python",
   "pygments_lexer": "ipython3",
   "version": "3.7.6"
  }
 },
 "nbformat": 4,
 "nbformat_minor": 2
}
