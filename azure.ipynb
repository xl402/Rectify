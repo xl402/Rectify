{
 "cells": [
  {
   "cell_type": "code",
   "execution_count": 2,
   "metadata": {},
   "outputs": [],
   "source": [
    "import os, uuid\n",
    "from azure.storage.blob import BlobServiceClient, BlobClient, ContainerClient\n",
    "import json\n",
    "import time\n",
    "import pickle\n",
    "import os\n",
    "import skimage as sk\n",
    "from skimage import io\n",
    "import matplotlib.pyplot as plt\n",
    "from skimage.metrics import structural_similarity as ssim\n",
    "from overall import *\n",
    "import smtplib\n",
    "import json\n",
    "import imghdr\n",
    "from email.message import EmailMessage\n",
    "from skimage.transform import resize\n",
    "\n",
    "with open('secret.json') as json_file:\n",
    "    env_variables = json.load(json_file)\n",
    "    os.environ['EMAIL_ADD'] = env_variables['EMAIL_ADD']\n",
    "    os.environ['EMAIL_PASS'] = env_variables['EMAIL_PASS']\n",
    "    os.environ['AZURE'] = env_variables['AZURE']"
   ]
  },
  {
   "cell_type": "raw",
   "metadata": {},
   "source": [
    "fname = 'figs/final/52.jpg'\n",
    "obj_list = get_object_list(fname)\n",
    "print(obj_list)"
   ]
  },
  {
   "cell_type": "code",
   "execution_count": 3,
   "metadata": {},
   "outputs": [],
   "source": [
    "azure_key = os.environ.get('AZURE')\n",
    "EMAIL_ADD = os.environ.get('EMAIL_ADD')\n",
    "EMAIL_PASS = os.environ.get('EMAIL_PASS')\n",
    "blob_service_client = BlobServiceClient.from_connection_string(azure_key)"
   ]
  },
  {
   "cell_type": "code",
   "execution_count": 4,
   "metadata": {},
   "outputs": [],
   "source": [
    "def im_resize(fname):\n",
    "    img = io.imread(fname)\n",
    "    img = resize(img, (800, 600, 3))\n",
    "    io.imsave(fname, img)"
   ]
  },
  {
   "cell_type": "code",
   "execution_count": 5,
   "metadata": {},
   "outputs": [],
   "source": [
    "containers = blob_service_client.list_containers() \n",
    "cs = {}\n",
    "for c in containers:\n",
    "    cs[c.name] = c.last_modified\n",
    "container_name = sorted(cs, key=cs.get, reverse=True)[0]"
   ]
  },
  {
   "cell_type": "code",
   "execution_count": 6,
   "metadata": {},
   "outputs": [],
   "source": [
    "def send_email(file_name):\n",
    "    msg = EmailMessage()\n",
    "    msg['Subject'] = 'Rectify: Item wrongly recycled'\n",
    "    msg['From'] = EMAIL_ADD\n",
    "    msg['To'] = 'rectify.hackathon@gmail.com'\n",
    "    msg.set_content('Oops, you have incorrectly placed an apple into recycling ;)')\n",
    "\n",
    "    with open(file_name, 'rb') as f:\n",
    "        file_data = f.read()\n",
    "        file_type = imghdr.what(f.name)\n",
    "        file_name = f.name\n",
    "    msg.add_attachment(file_data, maintype='image', subtype=file_type, filename=file_name)\n",
    "\n",
    "    with smtplib.SMTP_SSL('smtp.gmail.com', 465) as smtp:\n",
    "\n",
    "        smtp.login(EMAIL_ADD, EMAIL_PASS)\n",
    "\n",
    "        # Args: sender, reciever, message\n",
    "        smtp.send_message(msg)"
   ]
  },
  {
   "cell_type": "code",
   "execution_count": 7,
   "metadata": {},
   "outputs": [],
   "source": [
    "def check_recycle(objects, fname):\n",
    "    recycle_dict = ['water_bottle', 'mixing_bowl']\n",
    "    flag = False\n",
    "    for obj in objects:\n",
    "        if obj not in recycle_dict:\n",
    "            flag = True\n",
    "    if flag:\n",
    "        print(\"Non-recyclable object detected! Rectifying...\\n\\n\")\n",
    "        send_email(fname)"
   ]
  },
  {
   "cell_type": "code",
   "execution_count": 8,
   "metadata": {
    "scrolled": false
   },
   "outputs": [
    {
     "name": "stdout",
     "output_type": "stream",
     "text": [
      "0.7815365169736449\n",
      "New event found!!!!\n",
      "WARNING:tensorflow:From /anaconda3/envs/rectify/lib/python3.7/site-packages/keras/backend/tensorflow_backend.py:4070: The name tf.nn.max_pool is deprecated. Please use tf.nn.max_pool2d instead.\n",
      "\n",
      "WARNING:tensorflow:From /anaconda3/envs/rectify/lib/python3.7/site-packages/imageai/Detection/keras_retinanet/backend/tensorflow_backend.py:22: The name tf.image.resize_images is deprecated. Please use tf.image.resize instead.\n",
      "\n",
      "tracking <tf.Variable 'Variable:0' shape=(9, 4) dtype=float32> anchors\n",
      "tracking <tf.Variable 'Variable_1:0' shape=(9, 4) dtype=float32> anchors\n",
      "tracking <tf.Variable 'Variable_2:0' shape=(9, 4) dtype=float32> anchors\n",
      "tracking <tf.Variable 'Variable_3:0' shape=(9, 4) dtype=float32> anchors\n",
      "tracking <tf.Variable 'Variable_4:0' shape=(9, 4) dtype=float32> anchors\n",
      "WARNING:tensorflow:From /anaconda3/envs/rectify/lib/python3.7/site-packages/imageai/Detection/keras_retinanet/backend/tensorflow_backend.py:46: add_dispatch_support.<locals>.wrapper (from tensorflow.python.ops.array_ops) is deprecated and will be removed in a future version.\n",
      "Instructions for updating:\n",
      "Use tf.where in 2.0, which has the same broadcast rule as np.where\n",
      "WARNING:tensorflow:From /anaconda3/envs/rectify/lib/python3.7/site-packages/keras/backend/tensorflow_backend.py:422: The name tf.global_variables is deprecated. Please use tf.compat.v1.global_variables instead.\n",
      "\n",
      "WARNING:tensorflow:From /anaconda3/envs/rectify/lib/python3.7/site-packages/tensorflow/python/ops/init_ops.py:1251: calling VarianceScaling.__init__ (from tensorflow.python.ops.init_ops) with dtype is deprecated and will be removed in a future version.\n",
      "Instructions for updating:\n",
      "Call initializer instance with the dtype argument instead of passing it to the constructor\n",
      "Non-recyclable object detected! Rectifying...\n",
      "\n",
      "\n",
      "['orange']\n",
      "0.7849440773938005\n",
      "New event found!!!!\n",
      "tracking <tf.Variable 'Variable_5:0' shape=(9, 4) dtype=float32> anchors\n",
      "tracking <tf.Variable 'Variable_6:0' shape=(9, 4) dtype=float32> anchors\n",
      "tracking <tf.Variable 'Variable_7:0' shape=(9, 4) dtype=float32> anchors\n",
      "tracking <tf.Variable 'Variable_8:0' shape=(9, 4) dtype=float32> anchors\n",
      "tracking <tf.Variable 'Variable_9:0' shape=(9, 4) dtype=float32> anchors\n",
      "['orange', 'mixing_bowl']\n",
      "0.7906143234957433\n",
      "New event found!!!!\n",
      "tracking <tf.Variable 'Variable_10:0' shape=(9, 4) dtype=float32> anchors\n",
      "tracking <tf.Variable 'Variable_11:0' shape=(9, 4) dtype=float32> anchors\n",
      "tracking <tf.Variable 'Variable_12:0' shape=(9, 4) dtype=float32> anchors\n",
      "tracking <tf.Variable 'Variable_13:0' shape=(9, 4) dtype=float32> anchors\n",
      "tracking <tf.Variable 'Variable_14:0' shape=(9, 4) dtype=float32> anchors\n",
      "['orange', 'mixing_bowl']\n",
      "0.7446408276652078\n",
      "New event found!!!!\n",
      "tracking <tf.Variable 'Variable_15:0' shape=(9, 4) dtype=float32> anchors\n",
      "tracking <tf.Variable 'Variable_16:0' shape=(9, 4) dtype=float32> anchors\n",
      "tracking <tf.Variable 'Variable_17:0' shape=(9, 4) dtype=float32> anchors\n",
      "tracking <tf.Variable 'Variable_18:0' shape=(9, 4) dtype=float32> anchors\n",
      "tracking <tf.Variable 'Variable_19:0' shape=(9, 4) dtype=float32> anchors\n",
      "Non-recyclable object detected! Rectifying...\n",
      "\n",
      "\n",
      "['orange', 'mixing_bowl', 'banana']\n",
      "0.6980529345536604\n",
      "New event found!!!!\n",
      "tracking <tf.Variable 'Variable_20:0' shape=(9, 4) dtype=float32> anchors\n",
      "tracking <tf.Variable 'Variable_21:0' shape=(9, 4) dtype=float32> anchors\n",
      "tracking <tf.Variable 'Variable_22:0' shape=(9, 4) dtype=float32> anchors\n",
      "tracking <tf.Variable 'Variable_23:0' shape=(9, 4) dtype=float32> anchors\n",
      "tracking <tf.Variable 'Variable_24:0' shape=(9, 4) dtype=float32> anchors\n",
      "['orange', 'mixing_bowl', 'banana', 'water_bottle']\n"
     ]
    },
    {
     "ename": "KeyboardInterrupt",
     "evalue": "",
     "output_type": "error",
     "traceback": [
      "\u001b[0;31m---------------------------------------------------------------------------\u001b[0m",
      "\u001b[0;31mKeyboardInterrupt\u001b[0m                         Traceback (most recent call last)",
      "\u001b[0;32m<ipython-input-8-f03a1ed70dd0>\u001b[0m in \u001b[0;36m<module>\u001b[0;34m\u001b[0m\n\u001b[1;32m      4\u001b[0m \u001b[0;34m\u001b[0m\u001b[0m\n\u001b[1;32m      5\u001b[0m \u001b[0;32mwhile\u001b[0m \u001b[0;32mTrue\u001b[0m\u001b[0;34m:\u001b[0m\u001b[0;34m\u001b[0m\u001b[0;34m\u001b[0m\u001b[0m\n\u001b[0;32m----> 6\u001b[0;31m     \u001b[0mtime\u001b[0m\u001b[0;34m.\u001b[0m\u001b[0msleep\u001b[0m\u001b[0;34m(\u001b[0m\u001b[0;36m1\u001b[0m\u001b[0;34m)\u001b[0m\u001b[0;34m\u001b[0m\u001b[0;34m\u001b[0m\u001b[0m\n\u001b[0m\u001b[1;32m      7\u001b[0m     \u001b[0;31m# new container client\u001b[0m\u001b[0;34m\u001b[0m\u001b[0;34m\u001b[0m\u001b[0;34m\u001b[0m\u001b[0m\n\u001b[1;32m      8\u001b[0m     \u001b[0mcontainer_client\u001b[0m \u001b[0;34m=\u001b[0m \u001b[0mblob_service_client\u001b[0m\u001b[0;34m.\u001b[0m\u001b[0mget_container_client\u001b[0m\u001b[0;34m(\u001b[0m\u001b[0mcontainer_name\u001b[0m\u001b[0;34m)\u001b[0m\u001b[0;34m\u001b[0m\u001b[0;34m\u001b[0m\u001b[0m\n",
      "\u001b[0;31mKeyboardInterrupt\u001b[0m: "
     ]
    }
   ],
   "source": [
    "image_history = []\n",
    "obj_list_history = []\n",
    "SSIM_THRESH = 0.5\n",
    "\n",
    "while True:\n",
    "    time.sleep(1)\n",
    "    # new container client\n",
    "    container_client = blob_service_client.get_container_client(container_name)\n",
    "    container_client.list_blobs()\n",
    "    blobs = []\n",
    "    for i in container_client.list_blobs():\n",
    "        blobs.append(i)\n",
    "    #print(\"Num blobs: {}\".format(len(blobs)))\n",
    "    \n",
    "    for blob in container_client.list_blobs():\n",
    "        name = blob['name']\n",
    "        if name not in image_history:\n",
    "            blob_client = blob_service_client.get_blob_client(container=container_name, blob=name)\n",
    "            # save current image\n",
    "            this_name = 'real_time/{}.jpg'.format(int(time.time()))\n",
    "            with open(this_name, 'wb') as f:\n",
    "                f.write(blob_client.download_blob().readall())\n",
    "                \n",
    "            time.sleep(1)\n",
    "            if len(os.listdir('real_time'))!=0:\n",
    "                last_img = sorted(os.listdir('real_time'))[-2]\n",
    "                if last_img != '.DS_Store':\n",
    "                    last_img = io.imread('real_time/{}'.format(last_img))\n",
    "                    current_img_name = sorted(os.listdir('real_time'))[-1]\n",
    "                    current_img = io.imread('real_time/{}'.format(current_img_name))\n",
    "                    sim_idx = ssim(last_img, current_img, multichannel=True)\n",
    "                    print(sim_idx)\n",
    "                    if sim_idx <= 0.8:\n",
    "                        print(\"New event found!!!!\")\n",
    "                        fname = 'real_time/{}'.format(current_img_name)\n",
    "                        obj_list = get_object_list(fname)\n",
    "                        new_objs = [i for i in obj_list if i not in obj_list_history]\n",
    "                        obj_list_history = obj_list_history + new_objs\n",
    "                        check_recycle(new_objs, fname)\n",
    "                        print(obj_list_history)\n",
    "            image_history.append(name)"
   ]
  },
  {
   "cell_type": "code",
   "execution_count": null,
   "metadata": {},
   "outputs": [],
   "source": []
  }
 ],
 "metadata": {
  "kernelspec": {
   "display_name": "Python 3",
   "language": "python",
   "name": "python3"
  },
  "language_info": {
   "codemirror_mode": {
    "name": "ipython",
    "version": 3
   },
   "file_extension": ".py",
   "mimetype": "text/x-python",
   "name": "python",
   "nbconvert_exporter": "python",
   "pygments_lexer": "ipython3",
   "version": "3.7.6"
  }
 },
 "nbformat": 4,
 "nbformat_minor": 2
}
