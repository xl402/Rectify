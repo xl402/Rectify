{
 "cells": [
  {
   "cell_type": "code",
   "execution_count": 1,
   "metadata": {},
   "outputs": [
    {
     "ename": "ModuleNotFoundError",
     "evalue": "No module named 'azure.storage'; 'azure' is not a package",
     "output_type": "error",
     "traceback": [
      "\u001b[0;31m----------------------------------------------------------------------\u001b[0m",
      "\u001b[0;31mModuleNotFoundError\u001b[0m                  Traceback (most recent call last)",
      "\u001b[0;32m<ipython-input-1-4d7fc840034c>\u001b[0m in \u001b[0;36m<module>\u001b[0;34m\u001b[0m\n\u001b[1;32m      1\u001b[0m \u001b[0;32mimport\u001b[0m \u001b[0mos\u001b[0m\u001b[0;34m,\u001b[0m \u001b[0muuid\u001b[0m\u001b[0;34m\u001b[0m\u001b[0;34m\u001b[0m\u001b[0m\n\u001b[0;32m----> 2\u001b[0;31m \u001b[0;32mfrom\u001b[0m \u001b[0mazure\u001b[0m\u001b[0;34m.\u001b[0m\u001b[0mstorage\u001b[0m\u001b[0;34m.\u001b[0m\u001b[0mblob\u001b[0m \u001b[0;32mimport\u001b[0m \u001b[0mBlobServiceClient\u001b[0m\u001b[0;34m,\u001b[0m \u001b[0mBlobClient\u001b[0m\u001b[0;34m,\u001b[0m \u001b[0mContainerClient\u001b[0m\u001b[0;34m\u001b[0m\u001b[0;34m\u001b[0m\u001b[0m\n\u001b[0m\u001b[1;32m      3\u001b[0m \u001b[0;32mimport\u001b[0m \u001b[0mjson\u001b[0m\u001b[0;34m\u001b[0m\u001b[0;34m\u001b[0m\u001b[0m\n\u001b[1;32m      4\u001b[0m \u001b[0;32mimport\u001b[0m \u001b[0mtime\u001b[0m\u001b[0;34m\u001b[0m\u001b[0;34m\u001b[0m\u001b[0m\n\u001b[1;32m      5\u001b[0m \u001b[0;32mimport\u001b[0m \u001b[0mpickle\u001b[0m\u001b[0;34m\u001b[0m\u001b[0;34m\u001b[0m\u001b[0m\n",
      "\u001b[0;32m~/Desktop/rectify/azure.py\u001b[0m in \u001b[0;36m<module>\u001b[0;34m\u001b[0m\n\u001b[1;32m      5\u001b[0m \u001b[0;34m\u001b[0m\u001b[0m\n\u001b[1;32m      6\u001b[0m \u001b[0;32mimport\u001b[0m \u001b[0mos\u001b[0m\u001b[0;34m,\u001b[0m \u001b[0muuid\u001b[0m\u001b[0;34m\u001b[0m\u001b[0;34m\u001b[0m\u001b[0m\n\u001b[0;32m----> 7\u001b[0;31m \u001b[0;32mfrom\u001b[0m \u001b[0mazure\u001b[0m\u001b[0;34m.\u001b[0m\u001b[0mstorage\u001b[0m\u001b[0;34m.\u001b[0m\u001b[0mblob\u001b[0m \u001b[0;32mimport\u001b[0m \u001b[0mBlobServiceClient\u001b[0m\u001b[0;34m,\u001b[0m \u001b[0mBlobClient\u001b[0m\u001b[0;34m,\u001b[0m \u001b[0mContainerClient\u001b[0m\u001b[0;34m\u001b[0m\u001b[0;34m\u001b[0m\u001b[0m\n\u001b[0m\u001b[1;32m      8\u001b[0m \u001b[0;32mimport\u001b[0m \u001b[0mjson\u001b[0m\u001b[0;34m\u001b[0m\u001b[0;34m\u001b[0m\u001b[0m\n\u001b[1;32m      9\u001b[0m \u001b[0;32mimport\u001b[0m \u001b[0mtime\u001b[0m\u001b[0;34m\u001b[0m\u001b[0;34m\u001b[0m\u001b[0m\n",
      "\u001b[0;31mModuleNotFoundError\u001b[0m: No module named 'azure.storage'; 'azure' is not a package"
     ]
    }
   ],
   "source": [
    "import os, uuid\n",
    "from azure.storage.blob import BlobServiceClient, BlobClient, ContainerClient\n",
    "import json\n",
    "import time\n",
    "import pickle\n",
    "import os\n",
    "import shutil\n",
    "import skimage as sk\n",
    "from skimage import io\n",
    "import matplotlib.pyplot as plt\n",
    "from skimage.metrics import structural_similarity as ssim\n",
    "from overall import *\n",
    "import smtplib\n",
    "import json\n",
    "import imghdr\n",
    "from email.message import EmailMessage\n",
    "from skimage.transform import resize\n",
    "from sql_functions import *\n",
    "import mysql.connector\n",
    "from mysql.connector import errorcode\n",
    "import pandas as pd\n",
    "\n",
    "with open('secret.json') as json_file:\n",
    "    env_variables = json.load(json_file)\n",
    "    os.environ['EMAIL_ADD'] = env_variables['EMAIL_ADD']\n",
    "    os.environ['EMAIL_PASS'] = env_variables['EMAIL_PASS']\n",
    "    os.environ['AZURE'] = env_variables['AZURE']\n",
    "    os.environ['SQL_HOST'] = env_variables['SQL_HOST']\n",
    "    os.environ['SQL_USER'] = env_variables['SQL_USER']\n",
    "    os.environ['SQL_PASS'] = env_variables['SQL_PASS']\n",
    "    os.environ['SQL_DB'] = env_variables['SQL_DB']\n",
    "config = {\n",
    "  'host':os.environ.get('SQL_HOST'),\n",
    "  'user':os.environ.get('SQL_USER'),\n",
    "  'password':os.environ.get('SQL_PASS'),\n",
    "  'database':os.environ.get('SQL_DB')\n",
    "}\n",
    "\n",
    "%load_ext autoreload\n",
    "%autoreload 2"
   ]
  },
  {
   "cell_type": "code",
   "execution_count": null,
   "metadata": {},
   "outputs": [],
   "source": [
    "!pip uninstall azure -y\n"
   ]
  },
  {
   "cell_type": "code",
   "execution_count": null,
   "metadata": {},
   "outputs": [],
   "source": [
    "azure_key = os.environ.get('AZURE')\n",
    "EMAIL_ADD = os.environ.get('EMAIL_ADD')\n",
    "EMAIL_PASS = os.environ.get('EMAIL_PASS')\n",
    "blob_service_client = BlobServiceClient.from_connection_string(azure_key)"
   ]
  },
  {
   "cell_type": "code",
   "execution_count": 3,
   "metadata": {},
   "outputs": [],
   "source": [
    "def im_resize(fname):\n",
    "    img = io.imread(fname)\n",
    "    img = resize(img, (800, 600, 3))\n",
    "    io.imsave(fname, img)"
   ]
  },
  {
   "cell_type": "code",
   "execution_count": 4,
   "metadata": {},
   "outputs": [],
   "source": [
    "containers = blob_service_client.list_containers() \n",
    "cs = {}\n",
    "for c in containers:\n",
    "    cs[c.name] = c.last_modified\n",
    "container_name = sorted(cs, key=cs.get, reverse=True)[0]"
   ]
  },
  {
   "cell_type": "code",
   "execution_count": 5,
   "metadata": {},
   "outputs": [],
   "source": [
    "def send_email(file_name, obj_name):\n",
    "    msg = EmailMessage()\n",
    "    msg['Subject'] = 'Rectify: Item wrongly recycled'\n",
    "    msg['From'] = EMAIL_ADD\n",
    "    msg['To'] = 'rectify.hackathon@gmail.com'\n",
    "    msg.set_content('Oops, you have incorrectly placed an {} into recycling ;)'.format(obj_name))\n",
    "    \n",
    "    file = open(\"status_email.txt\",\"w+\") \n",
    "    file.write(\"Rectifying\") \n",
    "    file.close()\n",
    "\n",
    "    with open(file_name, 'rb') as f:\n",
    "        file_data = f.read()\n",
    "        file_type = imghdr.what(f.name)\n",
    "        file_name = f.name\n",
    "    msg.add_attachment(file_data, maintype='image', subtype=file_type, filename=file_name)\n",
    "\n",
    "    with smtplib.SMTP_SSL('smtp.gmail.com', 465) as smtp:\n",
    "\n",
    "        smtp.login(EMAIL_ADD, EMAIL_PASS)\n",
    "\n",
    "        # Args: sender, reciever, message\n",
    "        smtp.send_message(msg)"
   ]
  },
  {
   "cell_type": "code",
   "execution_count": 6,
   "metadata": {},
   "outputs": [],
   "source": [
    "def send_reward():\n",
    "    msg = EmailMessage()\n",
    "    msg['Subject'] = 'Rectify Reward: You are a star!'\n",
    "    msg['From'] = EMAIL_ADD\n",
    "    msg['To'] = 'rectify.hackathon@gmail.com'\n",
    "    msg.set_content('You have been recycling correctly for 10 days, keep it up!')\n",
    "\n",
    "    with smtplib.SMTP_SSL('smtp.gmail.com', 465) as smtp:\n",
    "\n",
    "        smtp.login(EMAIL_ADD, EMAIL_PASS)\n",
    "\n",
    "        # Args: sender, reciever, message\n",
    "        smtp.send_message(msg)"
   ]
  },
  {
   "cell_type": "code",
   "execution_count": 7,
   "metadata": {
    "scrolled": true
   },
   "outputs": [
    {
     "name": "stdout",
     "output_type": "stream",
     "text": [
      "Items Cleared.\n",
      "Items Cleared.\n",
      "User 1 consecutive_days => 9\n",
      "Done.\n"
     ]
    },
    {
     "data": {
      "text/html": [
       "<div>\n",
       "<style scoped>\n",
       "    .dataframe tbody tr th:only-of-type {\n",
       "        vertical-align: middle;\n",
       "    }\n",
       "\n",
       "    .dataframe tbody tr th {\n",
       "        vertical-align: top;\n",
       "    }\n",
       "\n",
       "    .dataframe thead th {\n",
       "        text-align: right;\n",
       "    }\n",
       "</style>\n",
       "<table border=\"1\" class=\"dataframe\">\n",
       "  <thead>\n",
       "    <tr style=\"text-align: right;\">\n",
       "      <th></th>\n",
       "      <th>userID</th>\n",
       "      <th>name</th>\n",
       "      <th>consecutive_days</th>\n",
       "    </tr>\n",
       "  </thead>\n",
       "  <tbody>\n",
       "    <tr>\n",
       "      <th>0</th>\n",
       "      <td>1</td>\n",
       "      <td>RaspPi</td>\n",
       "      <td>9</td>\n",
       "    </tr>\n",
       "    <tr>\n",
       "      <th>1</th>\n",
       "      <td>2</td>\n",
       "      <td>BluePi</td>\n",
       "      <td>0</td>\n",
       "    </tr>\n",
       "  </tbody>\n",
       "</table>\n",
       "</div>"
      ],
      "text/plain": [
       "   userID    name  consecutive_days\n",
       "0       1  RaspPi                 9\n",
       "1       2  BluePi                 0"
      ]
     },
     "execution_count": 7,
     "metadata": {},
     "output_type": "execute_result"
    }
   ],
   "source": [
    "clear_items(1, config)\n",
    "clear_items(2, config)\n",
    "\n",
    "set_consecutive_days(1, 9, config)\n",
    "    \n",
    "users_to_df(config)"
   ]
  },
  {
   "cell_type": "code",
   "execution_count": 8,
   "metadata": {},
   "outputs": [],
   "source": [
    "def check_recycle(objects, fname):\n",
    "    recycle_dict = ['water_bottle', 'mixing_bowl']\n",
    "    flag = False\n",
    "    user = 1\n",
    "    for obj in objects:\n",
    "        if obj not in recycle_dict:\n",
    "            flag = True\n",
    "        \n",
    "        add_item(obj, not flag, user, config)\n",
    "        check_clean(user, 1000, config) \n",
    "    reward = False\n",
    "    if len(objects)!=0:\n",
    "        reward = check_reward(user, 10, config)\n",
    "        file = open(\"status_email.txt\",\"w+\") \n",
    "        file.write(\"Reward Sent\") \n",
    "        file.close()\n",
    "    if reward == True:\n",
    "        send_reward()\n",
    "    if flag:\n",
    "        print(\"Non-recyclable object detected! Rectifying...\\n\\n\")\n",
    "        send_email(fname, objects[0])"
   ]
  },
  {
   "cell_type": "code",
   "execution_count": 9,
   "metadata": {
    "scrolled": false
   },
   "outputs": [
    {
     "name": "stdout",
     "output_type": "stream",
     "text": [
      "0.6516133242499812\n",
      "New event found!!!!\n",
      "WARNING:tensorflow:From /anaconda3/envs/rectify/lib/python3.7/site-packages/keras/backend/tensorflow_backend.py:4070: The name tf.nn.max_pool is deprecated. Please use tf.nn.max_pool2d instead.\n",
      "\n",
      "WARNING:tensorflow:From /anaconda3/envs/rectify/lib/python3.7/site-packages/imageai/Detection/keras_retinanet/backend/tensorflow_backend.py:22: The name tf.image.resize_images is deprecated. Please use tf.image.resize instead.\n",
      "\n",
      "tracking <tf.Variable 'Variable:0' shape=(9, 4) dtype=float32> anchors\n",
      "tracking <tf.Variable 'Variable_1:0' shape=(9, 4) dtype=float32> anchors\n",
      "tracking <tf.Variable 'Variable_2:0' shape=(9, 4) dtype=float32> anchors\n",
      "tracking <tf.Variable 'Variable_3:0' shape=(9, 4) dtype=float32> anchors\n",
      "tracking <tf.Variable 'Variable_4:0' shape=(9, 4) dtype=float32> anchors\n",
      "WARNING:tensorflow:From /anaconda3/envs/rectify/lib/python3.7/site-packages/imageai/Detection/keras_retinanet/backend/tensorflow_backend.py:46: add_dispatch_support.<locals>.wrapper (from tensorflow.python.ops.array_ops) is deprecated and will be removed in a future version.\n",
      "Instructions for updating:\n",
      "Use tf.where in 2.0, which has the same broadcast rule as np.where\n",
      "WARNING:tensorflow:From /anaconda3/envs/rectify/lib/python3.7/site-packages/keras/backend/tensorflow_backend.py:422: The name tf.global_variables is deprecated. Please use tf.compat.v1.global_variables instead.\n",
      "\n",
      "(1872, 1970, 3)\n",
      "(1918, 1960, 3)\n",
      "WARNING:tensorflow:From /anaconda3/envs/rectify/lib/python3.7/site-packages/tensorflow/python/ops/init_ops.py:1251: calling VarianceScaling.__init__ (from tensorflow.python.ops.init_ops) with dtype is deprecated and will be removed in a future version.\n",
      "Instructions for updating:\n",
      "Call initializer instance with the dtype argument instead of passing it to the constructor\n",
      "mortar  :  89.18384909629822\n",
      "mortar  :  97.2857654094696\n",
      "Item Added.\n",
      "Done.\n",
      "Done.\n",
      "0.6563862740904026\n",
      "New event found!!!!\n",
      "tracking <tf.Variable 'Variable_5:0' shape=(9, 4) dtype=float32> anchors\n",
      "tracking <tf.Variable 'Variable_6:0' shape=(9, 4) dtype=float32> anchors\n",
      "tracking <tf.Variable 'Variable_7:0' shape=(9, 4) dtype=float32> anchors\n",
      "tracking <tf.Variable 'Variable_8:0' shape=(9, 4) dtype=float32> anchors\n",
      "tracking <tf.Variable 'Variable_9:0' shape=(9, 4) dtype=float32> anchors\n",
      "(752, 759, 3)\n",
      "orange  :  99.99032020568848\n",
      "Item Added.\n",
      "Done.\n",
      "Done.\n",
      "Non-recyclable object detected! Rectifying...\n",
      "\n",
      "\n",
      "0.7597318333334244\n",
      "New event found!!!!\n",
      "tracking <tf.Variable 'Variable_10:0' shape=(9, 4) dtype=float32> anchors\n",
      "tracking <tf.Variable 'Variable_11:0' shape=(9, 4) dtype=float32> anchors\n",
      "tracking <tf.Variable 'Variable_12:0' shape=(9, 4) dtype=float32> anchors\n",
      "tracking <tf.Variable 'Variable_13:0' shape=(9, 4) dtype=float32> anchors\n",
      "tracking <tf.Variable 'Variable_14:0' shape=(9, 4) dtype=float32> anchors\n",
      "(654, 764, 3)\n",
      "(855, 883, 3)\n",
      "lemon  :  79.80032563209534\n",
      "pomegranate  :  98.94114136695862\n",
      "Item Added.\n",
      "Done.\n",
      "Done.\n",
      "Non-recyclable object detected! Rectifying...\n",
      "\n",
      "\n"
     ]
    },
    {
     "name": "stderr",
     "output_type": "stream",
     "text": [
      "ERROR:root:Internal Python error in the inspect module.\n",
      "Below is the traceback from this internal error.\n",
      "\n"
     ]
    },
    {
     "name": "stdout",
     "output_type": "stream",
     "text": [
      "Traceback (most recent call last):\n",
      "  File \"/anaconda3/envs/rectify/lib/python3.7/site-packages/IPython/core/interactiveshell.py\", line 3319, in run_code\n",
      "    exec(code_obj, self.user_global_ns, self.user_ns)\n",
      "  File \"<ipython-input-9-cb3ac6a7ae1b>\", line 17, in <module>\n",
      "    time.sleep(1)\n",
      "KeyboardInterrupt\n",
      "\n",
      "During handling of the above exception, another exception occurred:\n",
      "\n",
      "Traceback (most recent call last):\n",
      "  File \"/anaconda3/envs/rectify/lib/python3.7/site-packages/IPython/core/interactiveshell.py\", line 2034, in showtraceback\n",
      "    stb = value._render_traceback_()\n",
      "AttributeError: 'KeyboardInterrupt' object has no attribute '_render_traceback_'\n",
      "\n",
      "During handling of the above exception, another exception occurred:\n",
      "\n",
      "Traceback (most recent call last):\n",
      "  File \"/anaconda3/envs/rectify/lib/python3.7/site-packages/IPython/core/ultratb.py\", line 1151, in get_records\n",
      "    return _fixed_getinnerframes(etb, number_of_lines_of_context, tb_offset)\n",
      "  File \"/anaconda3/envs/rectify/lib/python3.7/site-packages/IPython/core/ultratb.py\", line 319, in wrapped\n",
      "    return f(*args, **kwargs)\n",
      "  File \"/anaconda3/envs/rectify/lib/python3.7/site-packages/IPython/core/ultratb.py\", line 353, in _fixed_getinnerframes\n",
      "    records = fix_frame_records_filenames(inspect.getinnerframes(etb, context))\n",
      "  File \"/anaconda3/envs/rectify/lib/python3.7/inspect.py\", line 1502, in getinnerframes\n",
      "    frameinfo = (tb.tb_frame,) + getframeinfo(tb, context)\n",
      "  File \"/anaconda3/envs/rectify/lib/python3.7/inspect.py\", line 1460, in getframeinfo\n",
      "    filename = getsourcefile(frame) or getfile(frame)\n",
      "  File \"/anaconda3/envs/rectify/lib/python3.7/inspect.py\", line 696, in getsourcefile\n",
      "    if getattr(getmodule(object, filename), '__loader__', None) is not None:\n",
      "  File \"/anaconda3/envs/rectify/lib/python3.7/inspect.py\", line 742, in getmodule\n",
      "    os.path.realpath(f)] = module.__name__\n",
      "  File \"/anaconda3/envs/rectify/lib/python3.7/posixpath.py\", line 395, in realpath\n",
      "    path, ok = _joinrealpath(filename[:0], filename, {})\n",
      "  File \"/anaconda3/envs/rectify/lib/python3.7/posixpath.py\", line 429, in _joinrealpath\n",
      "    if not islink(newpath):\n",
      "  File \"/anaconda3/envs/rectify/lib/python3.7/posixpath.py\", line 171, in islink\n",
      "    st = os.lstat(path)\n",
      "KeyboardInterrupt\n"
     ]
    },
    {
     "ename": "KeyboardInterrupt",
     "evalue": "",
     "output_type": "error",
     "traceback": [
      "\u001b[0;31m---------------------------------------------------------------------------\u001b[0m"
     ]
    }
   ],
   "source": [
    "import time\n",
    "import shutil\n",
    "from datetime import datetime\n",
    "image_history = []\n",
    "obj_list_history = []\n",
    "SSIM_THRESH = 0.5\n",
    "pickle.dump([], open( \"item_list.pkl\", \"wb\" ) )\n",
    "\n",
    "while True:\n",
    "    # get latest date\n",
    "    container_client = blob_service_client.get_container_client(container_name)\n",
    "    container_client.list_blobs()\n",
    "    blobs = []\n",
    "    for i in container_client.list_blobs():\n",
    "        blobs.append(i)\n",
    "    latest_date = sorted([b['last_modified'] for b in blobs])[-1]\n",
    "    time.sleep(1)\n",
    "    # new container client\n",
    "    container_client = blob_service_client.get_container_client(container_name)\n",
    "    #container_client.list_blobs()\n",
    "    #blobs = []\n",
    "    #for i in container_client.list_blobs():\n",
    "        #blobs.append(i)\n",
    "    #print(\"Num blobs: {}\".format(len(blobs)))\n",
    "    file = open(\"status.txt\",\"w+\") \n",
    "    file.write(\"IDLE\") \n",
    "    file.close()\n",
    "    \n",
    "    file = open(\"status_email.txt\",\"w+\") \n",
    "    file.write(\"--\") \n",
    "    file.close()\n",
    "    \n",
    "    for blob in container_client.list_blobs():\n",
    "        name = blob['name']\n",
    "        t = blob['last_modified']\n",
    "        if name not in image_history and t > latest_date:\n",
    "            blob_client = blob_service_client.get_blob_client(container=container_name, blob=name)\n",
    "            # save current image\n",
    "            this_name = 'real_time/{}.jpg'.format(int(time.time()))\n",
    "            with open(this_name, 'wb') as f:\n",
    "                f.write(blob_client.download_blob().readall())\n",
    "                \n",
    "            time.sleep(1)\n",
    "            if len(os.listdir('real_time'))!=0:\n",
    "                last_img = sorted(os.listdir('real_time'))[-2]\n",
    "                if last_img != '.DS_Store':\n",
    "                    last_img = io.imread('real_time/{}'.format(last_img))\n",
    "                    current_img_name = sorted(os.listdir('real_time'))[-1]\n",
    "                    current_img = io.imread('real_time/{}'.format(current_img_name))\n",
    "                    sim_idx = ssim(last_img, current_img, multichannel=True)\n",
    "                    \n",
    "                    print(sim_idx)\n",
    "                    \n",
    "                    if sim_idx <= 0.85:\n",
    "                        \n",
    "                        file = open(\"status.txt\",\"w+\") \n",
    "                        file.write(\"Inferencing\") \n",
    "                        file.close() \n",
    "                        \n",
    "                        shutil.rmtree(\"adian\")\n",
    "                        os.makedirs(\"adian\")\n",
    "                        print(\"New event found!!!!\")\n",
    "                        \n",
    "                        fname = 'real_time/{}'.format(current_img_name)\n",
    "                        obj_list = get_object_list(fname)\n",
    "                        \n",
    "                        file = open(\"status.txt\",\"w+\") \n",
    "                        file.write(\"Done!\") \n",
    "                        file.close() \n",
    "                        \n",
    "                        new_objs = [i for i in obj_list if i not in obj_list_history]\n",
    "                        obj_list_history = obj_list_history + new_objs\n",
    "                        check_recycle(new_objs, fname)\n",
    "                        pickle.dump(obj_list_history, open(\"item_list.pkl\", \"wb\" ))\n",
    "                        \n",
    "            image_history.append(name)"
   ]
  },
  {
   "cell_type": "raw",
   "metadata": {},
   "source": [
    "from overall import *\n",
    "obj_list = get_object_list('figs/final/bo2.jpg')\n",
    "#obj_list = get_object_list('image_cut/test.jpg')"
   ]
  },
  {
   "cell_type": "code",
   "execution_count": 12,
   "metadata": {},
   "outputs": [
    {
     "data": {
      "text/plain": [
       "['mixing_bowl']"
      ]
     },
     "execution_count": 12,
     "metadata": {},
     "output_type": "execute_result"
    }
   ],
   "source": [
    "obj_list_history"
   ]
  },
  {
   "cell_type": "code",
   "execution_count": 12,
   "metadata": {},
   "outputs": [
    {
     "data": {
      "text/plain": [
       "[]"
      ]
     },
     "execution_count": 12,
     "metadata": {},
     "output_type": "execute_result"
    }
   ],
   "source": [
    "new_objs"
   ]
  },
  {
   "cell_type": "code",
   "execution_count": null,
   "metadata": {},
   "outputs": [],
   "source": []
  }
 ],
 "metadata": {
  "kernelspec": {
   "display_name": "Python 3",
   "language": "python",
   "name": "python3"
  },
  "language_info": {
   "codemirror_mode": {
    "name": "ipython",
    "version": 3
   },
   "file_extension": ".py",
   "mimetype": "text/x-python",
   "name": "python",
   "nbconvert_exporter": "python",
   "pygments_lexer": "ipython3",
   "version": "3.7.6"
  }
 },
 "nbformat": 4,
 "nbformat_minor": 2
}
