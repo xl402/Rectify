{
 "cells": [
  {
   "cell_type": "code",
   "execution_count": 2,
   "metadata": {},
   "outputs": [
    {
     "name": "stdout",
     "output_type": "stream",
     "text": [
      "The autoreload extension is already loaded. To reload it, use:\n",
      "  %reload_ext autoreload\n"
     ]
    }
   ],
   "source": [
    "import os, uuid\n",
    "from azure.storage.blob import BlobServiceClient, BlobClient, ContainerClient\n",
    "import json\n",
    "import time\n",
    "import pickle\n",
    "import os\n",
    "import skimage as sk\n",
    "from skimage import io\n",
    "import matplotlib.pyplot as plt\n",
    "from skimage.metrics import structural_similarity as ssim\n",
    "from overall import *\n",
    "import smtplib\n",
    "import json\n",
    "import imghdr\n",
    "from email.message import EmailMessage\n",
    "from skimage.transform import resize\n",
    "from sql_functions import *\n",
    "import mysql.connector\n",
    "from mysql.connector import errorcode\n",
    "import pandas as pd\n",
    "\n",
    "with open('secret.json') as json_file:\n",
    "    env_variables = json.load(json_file)\n",
    "    os.environ['EMAIL_ADD'] = env_variables['EMAIL_ADD']\n",
    "    os.environ['EMAIL_PASS'] = env_variables['EMAIL_PASS']\n",
    "    os.environ['AZURE'] = env_variables['AZURE']\n",
    "    os.environ['SQL_HOST'] = env_variables['SQL_HOST']\n",
    "    os.environ['SQL_USER'] = env_variables['SQL_USER']\n",
    "    os.environ['SQL_PASS'] = env_variables['SQL_PASS']\n",
    "    os.environ['SQL_DB'] = env_variables['SQL_DB']\n",
    "config = {\n",
    "  'host':os.environ.get('SQL_HOST'),\n",
    "  'user':os.environ.get('SQL_USER'),\n",
    "  'password':os.environ.get('SQL_PASS'),\n",
    "  'database':os.environ.get('SQL_DB')\n",
    "}\n",
    "\n",
    "%load_ext autoreload\n",
    "%autoreload 2"
   ]
  },
  {
   "cell_type": "raw",
   "metadata": {},
   "source": [
    "fname = 'figs/final/52.jpg'\n",
    "obj_list = get_object_list(fname)\n",
    "print(obj_list)"
   ]
  },
  {
   "cell_type": "code",
   "execution_count": 2,
   "metadata": {},
   "outputs": [],
   "source": [
    "azure_key = os.environ.get('AZURE')\n",
    "EMAIL_ADD = os.environ.get('EMAIL_ADD')\n",
    "EMAIL_PASS = os.environ.get('EMAIL_PASS')\n",
    "blob_service_client = BlobServiceClient.from_connection_string(azure_key)"
   ]
  },
  {
   "cell_type": "code",
   "execution_count": 3,
   "metadata": {},
   "outputs": [],
   "source": [
    "def im_resize(fname):\n",
    "    img = io.imread(fname)\n",
    "    img = resize(img, (800, 600, 3))\n",
    "    io.imsave(fname, img)"
   ]
  },
  {
   "cell_type": "code",
   "execution_count": 4,
   "metadata": {},
   "outputs": [],
   "source": [
    "containers = blob_service_client.list_containers() \n",
    "cs = {}\n",
    "for c in containers:\n",
    "    cs[c.name] = c.last_modified\n",
    "container_name = sorted(cs, key=cs.get, reverse=True)[0]"
   ]
  },
  {
   "cell_type": "code",
   "execution_count": 5,
   "metadata": {},
   "outputs": [],
   "source": [
    "def send_email(file_name):\n",
    "    msg = EmailMessage()\n",
    "    msg['Subject'] = 'Rectify: Item wrongly recycled'\n",
    "    msg['From'] = EMAIL_ADD\n",
    "    msg['To'] = 'rectify.hackathon@gmail.com'\n",
    "    msg.set_content('Oops, you have incorrectly placed an apple into recycling ;)')\n",
    "\n",
    "    with open(file_name, 'rb') as f:\n",
    "        file_data = f.read()\n",
    "        file_type = imghdr.what(f.name)\n",
    "        file_name = f.name\n",
    "    msg.add_attachment(file_data, maintype='image', subtype=file_type, filename=file_name)\n",
    "\n",
    "    with smtplib.SMTP_SSL('smtp.gmail.com', 465) as smtp:\n",
    "\n",
    "        smtp.login(EMAIL_ADD, EMAIL_PASS)\n",
    "\n",
    "        # Args: sender, reciever, message\n",
    "        smtp.send_message(msg)"
   ]
  },
  {
   "cell_type": "code",
   "execution_count": 6,
   "metadata": {},
   "outputs": [],
   "source": [
    "def send_reward():\n",
    "    msg = EmailMessage()\n",
    "    msg['Subject'] = 'Rectify Reward: You are a star!'\n",
    "    msg['From'] = EMAIL_ADD\n",
    "    msg['To'] = 'rectify.hackathon@gmail.com'\n",
    "    msg.set_content('You have been recycling correctly for 10 days, keep it up!')\n",
    "\n",
    "    with smtplib.SMTP_SSL('smtp.gmail.com', 465) as smtp:\n",
    "\n",
    "        smtp.login(EMAIL_ADD, EMAIL_PASS)\n",
    "\n",
    "        # Args: sender, reciever, message\n",
    "        smtp.send_message(msg)"
   ]
  },
  {
   "cell_type": "code",
   "execution_count": 7,
   "metadata": {
    "scrolled": true
   },
   "outputs": [
    {
     "name": "stdout",
     "output_type": "stream",
     "text": [
      "Items Cleared.\n",
      "Items Cleared.\n"
     ]
    },
    {
     "name": "stderr",
     "output_type": "stream",
     "text": [
      "ERROR:root:Internal Python error in the inspect module.\n",
      "Below is the traceback from this internal error.\n",
      "\n"
     ]
    },
    {
     "name": "stdout",
     "output_type": "stream",
     "text": [
      "Traceback (most recent call last):\n",
      "  File \"/anaconda3/envs/rectify/lib/python3.7/site-packages/IPython/core/interactiveshell.py\", line 3319, in run_code\n",
      "    exec(code_obj, self.user_global_ns, self.user_ns)\n",
      "  File \"<ipython-input-7-6221ebe7e857>\", line 4, in <module>\n",
      "    users_to_df(config)\n",
      "  File \"/Users/luxiaoding/Desktop/rectify/sql_functions.py\", line 18, in users_to_df\n",
      "    conn = mysql.connector.connect(**config)\n",
      "  File \"/anaconda3/envs/rectify/lib/python3.7/site-packages/mysql/connector/__init__.py\", line 218, in connect\n",
      "    return CMySQLConnection(*args, **kwargs)\n",
      "  File \"/anaconda3/envs/rectify/lib/python3.7/site-packages/mysql/connector/connection_cext.py\", line 80, in __init__\n",
      "    self.connect(**kwargs)\n",
      "  File \"/anaconda3/envs/rectify/lib/python3.7/site-packages/mysql/connector/abstracts.py\", line 960, in connect\n",
      "    self._open_connection()\n",
      "  File \"/anaconda3/envs/rectify/lib/python3.7/site-packages/mysql/connector/connection_cext.py\", line 216, in _open_connection\n",
      "    self._cmysql.connect(**cnx_kwargs)\n",
      "KeyboardInterrupt\n",
      "\n",
      "During handling of the above exception, another exception occurred:\n",
      "\n",
      "Traceback (most recent call last):\n",
      "  File \"/anaconda3/envs/rectify/lib/python3.7/site-packages/IPython/core/interactiveshell.py\", line 2034, in showtraceback\n",
      "    stb = value._render_traceback_()\n",
      "AttributeError: 'KeyboardInterrupt' object has no attribute '_render_traceback_'\n",
      "\n",
      "During handling of the above exception, another exception occurred:\n",
      "\n",
      "Traceback (most recent call last):\n",
      "  File \"/anaconda3/envs/rectify/lib/python3.7/site-packages/IPython/core/ultratb.py\", line 1151, in get_records\n",
      "    return _fixed_getinnerframes(etb, number_of_lines_of_context, tb_offset)\n",
      "  File \"/anaconda3/envs/rectify/lib/python3.7/site-packages/IPython/core/ultratb.py\", line 319, in wrapped\n",
      "    return f(*args, **kwargs)\n",
      "  File \"/anaconda3/envs/rectify/lib/python3.7/site-packages/IPython/core/ultratb.py\", line 353, in _fixed_getinnerframes\n",
      "    records = fix_frame_records_filenames(inspect.getinnerframes(etb, context))\n",
      "  File \"/anaconda3/envs/rectify/lib/python3.7/inspect.py\", line 1502, in getinnerframes\n",
      "    frameinfo = (tb.tb_frame,) + getframeinfo(tb, context)\n",
      "  File \"/anaconda3/envs/rectify/lib/python3.7/inspect.py\", line 1460, in getframeinfo\n",
      "    filename = getsourcefile(frame) or getfile(frame)\n",
      "  File \"/anaconda3/envs/rectify/lib/python3.7/inspect.py\", line 696, in getsourcefile\n",
      "    if getattr(getmodule(object, filename), '__loader__', None) is not None:\n",
      "  File \"/anaconda3/envs/rectify/lib/python3.7/inspect.py\", line 739, in getmodule\n",
      "    f = getabsfile(module)\n",
      "  File \"/anaconda3/envs/rectify/lib/python3.7/inspect.py\", line 708, in getabsfile\n",
      "    _filename = getsourcefile(object) or getfile(object)\n",
      "  File \"/anaconda3/envs/rectify/lib/python3.7/inspect.py\", line 693, in getsourcefile\n",
      "    if os.path.exists(filename):\n",
      "  File \"/anaconda3/envs/rectify/lib/python3.7/genericpath.py\", line 19, in exists\n",
      "    os.stat(path)\n",
      "KeyboardInterrupt\n"
     ]
    },
    {
     "ename": "KeyboardInterrupt",
     "evalue": "",
     "output_type": "error",
     "traceback": [
      "\u001b[0;31m---------------------------------------------------------------------------\u001b[0m"
     ]
    }
   ],
   "source": [
    "clear_items(1, config)\n",
    "clear_items(2, config)\n",
    "\n",
    "users_to_df(config)\n",
    "\n",
    "for i in range(10):\n",
    "    add_item('water_bottle', 1, 1, config)\n",
    "    check_clean(1, 1000, config)\n",
    "    \n",
    "users_to_df(config)"
   ]
  },
  {
   "cell_type": "code",
   "execution_count": null,
   "metadata": {},
   "outputs": [],
   "source": [
    "def check_recycle(objects, fname):\n",
    "    recycle_dict = ['water_bottle', 'mixing_bowl']\n",
    "    flag = False\n",
    "    for obj in objects:\n",
    "        if obj not in recycle_dict:\n",
    "            flag = True\n",
    "    user = 1\n",
    "    add_item(obj, not flag, user, config)\n",
    "    check_clean(user, 1000, config)\n",
    "    reward = check_reward(user, 10, config)\n",
    "    if reward == True:\n",
    "        send_reward\n",
    "    if flag:\n",
    "        print(\"Non-recyclable object detected! Rectifying...\\n\\n\")\n",
    "        send_email(fname)"
   ]
  },
  {
   "cell_type": "code",
   "execution_count": null,
   "metadata": {
    "scrolled": false
   },
   "outputs": [],
   "source": [
    "import time\n",
    "image_history = []\n",
    "obj_list_history = []\n",
    "SSIM_THRESH = 0.5\n",
    "\n",
    "while True:\n",
    "    # get latest date\n",
    "    container_client = blob_service_client.get_container_client(container_name)\n",
    "    container_client.list_blobs()\n",
    "    blobs = []\n",
    "    for i in container_client.list_blobs():\n",
    "        blobs.append(i)\n",
    "        \n",
    "    latest_date = sorted([b['last_modified'] for b in blobs])[-1]\n",
    "    time.sleep(1)\n",
    "    # new container client\n",
    "    container_client = blob_service_client.get_container_client(container_name)\n",
    "    #container_client.list_blobs()\n",
    "    #blobs = []\n",
    "    #for i in container_client.list_blobs():\n",
    "        #blobs.append(i)\n",
    "    #print(\"Num blobs: {}\".format(len(blobs)))\n",
    "    \n",
    "    for blob in container_client.list_blobs():\n",
    "        name = blob['name']\n",
    "        t = blob['last_modified']\n",
    "        if name not in image_history and t > latest_date:\n",
    "            blob_client = blob_service_client.get_blob_client(container=container_name, blob=name)\n",
    "            # save current image\n",
    "            this_name = 'real_time/{}.jpg'.format(int(time.time()))\n",
    "            with open(this_name, 'wb') as f:\n",
    "                f.write(blob_client.download_blob().readall())\n",
    "                \n",
    "            time.sleep(1)\n",
    "            if len(os.listdir('real_time'))!=0:\n",
    "                last_img = sorted(os.listdir('real_time'))[-2]\n",
    "                if last_img != '.DS_Store':\n",
    "                    last_img = io.imread('real_time/{}'.format(last_img))\n",
    "                    current_img_name = sorted(os.listdir('real_time'))[-1]\n",
    "                    current_img = io.imread('real_time/{}'.format(current_img_name))\n",
    "                    sim_idx = ssim(last_img, current_img, multichannel=True)\n",
    "                    print(sim_idx)\n",
    "                    if sim_idx <= 0.8:\n",
    "                        shutil.rmtree(execution_path+\"/adian\")\n",
    "                        os.makedirs(execution_path+\"/adian\")\n",
    "                        print(\"New event found!!!!\")\n",
    "                        \n",
    "                        fname = 'real_time/{}'.format(current_img_name)\n",
    "                        obj_list = get_object_list(fname)\n",
    "                        new_objs = [i for i in obj_list if i not in obj_list_history]\n",
    "                        obj_list_history = obj_list_history + new_objs\n",
    "                        check_recycle(new_objs, fname)\n",
    "                        print(obj_list_history)\n",
    "                        \n",
    "            image_history.append(name)"
   ]
  },
  {
   "cell_type": "code",
   "execution_count": 6,
   "metadata": {},
   "outputs": [
    {
     "name": "stdout",
     "output_type": "stream",
     "text": [
      "tracking <tf.Variable 'Variable_15:0' shape=(9, 4) dtype=float32> anchors\n",
      "tracking <tf.Variable 'Variable_16:0' shape=(9, 4) dtype=float32> anchors\n",
      "tracking <tf.Variable 'Variable_17:0' shape=(9, 4) dtype=float32> anchors\n",
      "tracking <tf.Variable 'Variable_18:0' shape=(9, 4) dtype=float32> anchors\n",
      "tracking <tf.Variable 'Variable_19:0' shape=(9, 4) dtype=float32> anchors\n",
      "(654, 764, 3)\n",
      "(855, 883, 3)\n",
      "lemon  :  79.80032563209534\n",
      "pomegranate  :  98.94114136695862\n"
     ]
    }
   ],
   "source": [
    "from overall import *\n",
    "obj_list = get_object_list('figs/final/31.jpg')"
   ]
  },
  {
   "cell_type": "code",
   "execution_count": null,
   "metadata": {},
   "outputs": [],
   "source": [
    "obj_list"
   ]
  },
  {
   "cell_type": "code",
   "execution_count": null,
   "metadata": {},
   "outputs": [],
   "source": []
  }
 ],
 "metadata": {
  "kernelspec": {
   "display_name": "Python 3",
   "language": "python",
   "name": "python3"
  },
  "language_info": {
   "codemirror_mode": {
    "name": "ipython",
    "version": 3
   },
   "file_extension": ".py",
   "mimetype": "text/x-python",
   "name": "python",
   "nbconvert_exporter": "python",
   "pygments_lexer": "ipython3",
   "version": "3.7.6"
  }
 },
 "nbformat": 4,
 "nbformat_minor": 2
}
