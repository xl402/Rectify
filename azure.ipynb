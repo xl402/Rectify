{
 "cells": [
  {
   "cell_type": "code",
   "execution_count": 1,
   "metadata": {},
   "outputs": [
    {
     "name": "stderr",
     "output_type": "stream",
     "text": [
      "Using TensorFlow backend.\n",
      "/anaconda3/envs/rectify/lib/python3.7/site-packages/tensorflow/python/framework/dtypes.py:516: FutureWarning: Passing (type, 1) or '1type' as a synonym of type is deprecated; in a future version of numpy, it will be understood as (type, (1,)) / '(1,)type'.\n",
      "  _np_qint8 = np.dtype([(\"qint8\", np.int8, 1)])\n",
      "/anaconda3/envs/rectify/lib/python3.7/site-packages/tensorflow/python/framework/dtypes.py:517: FutureWarning: Passing (type, 1) or '1type' as a synonym of type is deprecated; in a future version of numpy, it will be understood as (type, (1,)) / '(1,)type'.\n",
      "  _np_quint8 = np.dtype([(\"quint8\", np.uint8, 1)])\n",
      "/anaconda3/envs/rectify/lib/python3.7/site-packages/tensorflow/python/framework/dtypes.py:518: FutureWarning: Passing (type, 1) or '1type' as a synonym of type is deprecated; in a future version of numpy, it will be understood as (type, (1,)) / '(1,)type'.\n",
      "  _np_qint16 = np.dtype([(\"qint16\", np.int16, 1)])\n",
      "/anaconda3/envs/rectify/lib/python3.7/site-packages/tensorflow/python/framework/dtypes.py:519: FutureWarning: Passing (type, 1) or '1type' as a synonym of type is deprecated; in a future version of numpy, it will be understood as (type, (1,)) / '(1,)type'.\n",
      "  _np_quint16 = np.dtype([(\"quint16\", np.uint16, 1)])\n",
      "/anaconda3/envs/rectify/lib/python3.7/site-packages/tensorflow/python/framework/dtypes.py:520: FutureWarning: Passing (type, 1) or '1type' as a synonym of type is deprecated; in a future version of numpy, it will be understood as (type, (1,)) / '(1,)type'.\n",
      "  _np_qint32 = np.dtype([(\"qint32\", np.int32, 1)])\n",
      "/anaconda3/envs/rectify/lib/python3.7/site-packages/tensorflow/python/framework/dtypes.py:525: FutureWarning: Passing (type, 1) or '1type' as a synonym of type is deprecated; in a future version of numpy, it will be understood as (type, (1,)) / '(1,)type'.\n",
      "  np_resource = np.dtype([(\"resource\", np.ubyte, 1)])\n",
      "/anaconda3/envs/rectify/lib/python3.7/site-packages/tensorboard/compat/tensorflow_stub/dtypes.py:541: FutureWarning: Passing (type, 1) or '1type' as a synonym of type is deprecated; in a future version of numpy, it will be understood as (type, (1,)) / '(1,)type'.\n",
      "  _np_qint8 = np.dtype([(\"qint8\", np.int8, 1)])\n",
      "/anaconda3/envs/rectify/lib/python3.7/site-packages/tensorboard/compat/tensorflow_stub/dtypes.py:542: FutureWarning: Passing (type, 1) or '1type' as a synonym of type is deprecated; in a future version of numpy, it will be understood as (type, (1,)) / '(1,)type'.\n",
      "  _np_quint8 = np.dtype([(\"quint8\", np.uint8, 1)])\n",
      "/anaconda3/envs/rectify/lib/python3.7/site-packages/tensorboard/compat/tensorflow_stub/dtypes.py:543: FutureWarning: Passing (type, 1) or '1type' as a synonym of type is deprecated; in a future version of numpy, it will be understood as (type, (1,)) / '(1,)type'.\n",
      "  _np_qint16 = np.dtype([(\"qint16\", np.int16, 1)])\n",
      "/anaconda3/envs/rectify/lib/python3.7/site-packages/tensorboard/compat/tensorflow_stub/dtypes.py:544: FutureWarning: Passing (type, 1) or '1type' as a synonym of type is deprecated; in a future version of numpy, it will be understood as (type, (1,)) / '(1,)type'.\n",
      "  _np_quint16 = np.dtype([(\"quint16\", np.uint16, 1)])\n",
      "/anaconda3/envs/rectify/lib/python3.7/site-packages/tensorboard/compat/tensorflow_stub/dtypes.py:545: FutureWarning: Passing (type, 1) or '1type' as a synonym of type is deprecated; in a future version of numpy, it will be understood as (type, (1,)) / '(1,)type'.\n",
      "  _np_qint32 = np.dtype([(\"qint32\", np.int32, 1)])\n",
      "/anaconda3/envs/rectify/lib/python3.7/site-packages/tensorboard/compat/tensorflow_stub/dtypes.py:550: FutureWarning: Passing (type, 1) or '1type' as a synonym of type is deprecated; in a future version of numpy, it will be understood as (type, (1,)) / '(1,)type'.\n",
      "  np_resource = np.dtype([(\"resource\", np.ubyte, 1)])\n"
     ]
    }
   ],
   "source": [
    "import os, uuid\n",
    "from azure.storage.blob import BlobServiceClient, BlobClient, ContainerClient\n",
    "import json\n",
    "import time\n",
    "import pickle\n",
    "import os\n",
    "import skimage as sk\n",
    "from skimage import io\n",
    "import matplotlib.pyplot as plt\n",
    "from skimage.metrics import structural_similarity as ssim\n",
    "from overall import *\n",
    "import smtplib\n",
    "import json\n",
    "import imghdr\n",
    "from email.message import EmailMessage\n",
    "from skimage.transform import resize\n",
    "from sql_functions import *\n",
    "import mysql.connector\n",
    "from mysql.connector import errorcode\n",
    "import pandas as pd\n",
    "\n",
    "with open('secret.json') as json_file:\n",
    "    env_variables = json.load(json_file)\n",
    "    os.environ['EMAIL_ADD'] = env_variables['EMAIL_ADD']\n",
    "    os.environ['EMAIL_PASS'] = env_variables['EMAIL_PASS']\n",
    "    os.environ['AZURE'] = env_variables['AZURE']\n",
    "    os.environ['SQL_HOST'] = env_variables['SQL_HOST']\n",
    "    os.environ['SQL_USER'] = env_variables['SQL_USER']\n",
    "    os.environ['SQL_PASS'] = env_variables['SQL_PASS']\n",
    "    os.environ['SQL_DB'] = env_variables['SQL_DB']\n",
    "config = {\n",
    "  'host':os.environ.get('SQL_HOST'),\n",
    "  'user':os.environ.get('SQL_USER'),\n",
    "  'password':os.environ.get('SQL_PASS'),\n",
    "  'database':os.environ.get('SQL_DB')\n",
    "}"
   ]
  },
  {
   "cell_type": "raw",
   "metadata": {},
   "source": [
    "fname = 'figs/final/52.jpg'\n",
    "obj_list = get_object_list(fname)\n",
    "print(obj_list)"
   ]
  },
  {
   "cell_type": "code",
   "execution_count": 2,
   "metadata": {},
   "outputs": [],
   "source": [
    "azure_key = os.environ.get('AZURE')\n",
    "EMAIL_ADD = os.environ.get('EMAIL_ADD')\n",
    "EMAIL_PASS = os.environ.get('EMAIL_PASS')\n",
    "blob_service_client = BlobServiceClient.from_connection_string(azure_key)"
   ]
  },
  {
   "cell_type": "code",
   "execution_count": 3,
   "metadata": {},
   "outputs": [],
   "source": [
    "def im_resize(fname):\n",
    "    img = io.imread(fname)\n",
    "    img = resize(img, (800, 600, 3))\n",
    "    io.imsave(fname, img)"
   ]
  },
  {
   "cell_type": "code",
   "execution_count": 4,
   "metadata": {},
   "outputs": [],
   "source": [
    "containers = blob_service_client.list_containers() \n",
    "cs = {}\n",
    "for c in containers:\n",
    "    cs[c.name] = c.last_modified\n",
    "container_name = sorted(cs, key=cs.get, reverse=True)[0]"
   ]
  },
  {
   "cell_type": "code",
   "execution_count": 5,
   "metadata": {},
   "outputs": [],
   "source": [
    "def send_email(file_name):\n",
    "    msg = EmailMessage()\n",
    "    msg['Subject'] = 'Rectify: Item wrongly recycled'\n",
    "    msg['From'] = EMAIL_ADD\n",
    "    msg['To'] = 'rectify.hackathon@gmail.com'\n",
    "    msg.set_content('Oops, you have incorrectly placed an apple into recycling ;)')\n",
    "\n",
    "    with open(file_name, 'rb') as f:\n",
    "        file_data = f.read()\n",
    "        file_type = imghdr.what(f.name)\n",
    "        file_name = f.name\n",
    "    msg.add_attachment(file_data, maintype='image', subtype=file_type, filename=file_name)\n",
    "\n",
    "    with smtplib.SMTP_SSL('smtp.gmail.com', 465) as smtp:\n",
    "\n",
    "        smtp.login(EMAIL_ADD, EMAIL_PASS)\n",
    "\n",
    "        # Args: sender, reciever, message\n",
    "        smtp.send_message(msg)"
   ]
  },
  {
   "cell_type": "code",
   "execution_count": 6,
   "metadata": {},
   "outputs": [],
   "source": [
    "def send_reward():\n",
    "    msg = EmailMessage()\n",
    "    msg['Subject'] = 'Rectify Reward: You are a star!'\n",
    "    msg['From'] = EMAIL_ADD\n",
    "    msg['To'] = 'rectify.hackathon@gmail.com'\n",
    "    msg.set_content('You have been recycling correctly for 10 days, keep it up!')\n",
    "\n",
    "    with smtplib.SMTP_SSL('smtp.gmail.com', 465) as smtp:\n",
    "\n",
    "        smtp.login(EMAIL_ADD, EMAIL_PASS)\n",
    "\n",
    "        # Args: sender, reciever, message\n",
    "        smtp.send_message(msg)"
   ]
  },
  {
   "cell_type": "code",
   "execution_count": 7,
   "metadata": {
    "scrolled": true
   },
   "outputs": [
    {
     "name": "stdout",
     "output_type": "stream",
     "text": [
      "Items Cleared.\n",
      "Items Cleared.\n",
      "Item Added.\n",
      "Done.\n",
      "Item Added.\n",
      "Done.\n",
      "Item Added.\n",
      "Done.\n",
      "Item Added.\n",
      "Done.\n",
      "Item Added.\n",
      "Done.\n",
      "Item Added.\n",
      "Done.\n",
      "Item Added.\n",
      "Done.\n",
      "Item Added.\n",
      "Done.\n",
      "Item Added.\n",
      "Done.\n",
      "Item Added.\n",
      "Done.\n"
     ]
    },
    {
     "data": {
      "text/html": [
       "<div>\n",
       "<style scoped>\n",
       "    .dataframe tbody tr th:only-of-type {\n",
       "        vertical-align: middle;\n",
       "    }\n",
       "\n",
       "    .dataframe tbody tr th {\n",
       "        vertical-align: top;\n",
       "    }\n",
       "\n",
       "    .dataframe thead th {\n",
       "        text-align: right;\n",
       "    }\n",
       "</style>\n",
       "<table border=\"1\" class=\"dataframe\">\n",
       "  <thead>\n",
       "    <tr style=\"text-align: right;\">\n",
       "      <th></th>\n",
       "      <th>userID</th>\n",
       "      <th>name</th>\n",
       "      <th>consecutive_days</th>\n",
       "    </tr>\n",
       "  </thead>\n",
       "  <tbody>\n",
       "    <tr>\n",
       "      <th>0</th>\n",
       "      <td>1</td>\n",
       "      <td>RaspPi</td>\n",
       "      <td>10</td>\n",
       "    </tr>\n",
       "    <tr>\n",
       "      <th>1</th>\n",
       "      <td>2</td>\n",
       "      <td>BluePi</td>\n",
       "      <td>0</td>\n",
       "    </tr>\n",
       "  </tbody>\n",
       "</table>\n",
       "</div>"
      ],
      "text/plain": [
       "   userID    name  consecutive_days\n",
       "0       1  RaspPi                10\n",
       "1       2  BluePi                 0"
      ]
     },
     "execution_count": 7,
     "metadata": {},
     "output_type": "execute_result"
    }
   ],
   "source": [
    "clear_items(1, config)\n",
    "clear_items(2, config)\n",
    "\n",
    "users_to_df(config)\n",
    "\n",
    "for i in range(10):\n",
    "    add_item('water_bottle', 1, 1, config)\n",
    "    check_clean(1, 1000, config)\n",
    "    \n",
    "users_to_df(config)"
   ]
  },
  {
   "cell_type": "code",
   "execution_count": 8,
   "metadata": {},
   "outputs": [],
   "source": [
    "def check_recycle(objects, fname):\n",
    "    recycle_dict = ['water_bottle', 'mixing_bowl']\n",
    "    flag = False\n",
    "    for obj in objects:\n",
    "        if obj not in recycle_dict:\n",
    "            flag = True\n",
    "    user = 1\n",
    "    add_item(obj, not flag, user, config)\n",
    "    check_clean(user, 1000, config)\n",
    "    reward = check_reward(user, 10, config)\n",
    "    if reward == True:\n",
    "        send_reward\n",
    "    if flag:\n",
    "        print(\"Non-recyclable object detected! Rectifying...\\n\\n\")\n",
    "        send_email(fname)"
   ]
  },
  {
   "cell_type": "code",
   "execution_count": 9,
   "metadata": {
    "scrolled": false
   },
   "outputs": [
    {
     "name": "stdout",
     "output_type": "stream",
     "text": [
      "0.7689289411462553\n",
      "New event found!!!!\n",
      "WARNING:tensorflow:From /anaconda3/envs/rectify/lib/python3.7/site-packages/keras/backend/tensorflow_backend.py:4070: The name tf.nn.max_pool is deprecated. Please use tf.nn.max_pool2d instead.\n",
      "\n",
      "WARNING:tensorflow:From /anaconda3/envs/rectify/lib/python3.7/site-packages/imageai/Detection/keras_retinanet/backend/tensorflow_backend.py:22: The name tf.image.resize_images is deprecated. Please use tf.image.resize instead.\n",
      "\n",
      "tracking <tf.Variable 'Variable:0' shape=(9, 4) dtype=float32> anchors\n",
      "tracking <tf.Variable 'Variable_1:0' shape=(9, 4) dtype=float32> anchors\n",
      "tracking <tf.Variable 'Variable_2:0' shape=(9, 4) dtype=float32> anchors\n",
      "tracking <tf.Variable 'Variable_3:0' shape=(9, 4) dtype=float32> anchors\n",
      "tracking <tf.Variable 'Variable_4:0' shape=(9, 4) dtype=float32> anchors\n",
      "WARNING:tensorflow:From /anaconda3/envs/rectify/lib/python3.7/site-packages/imageai/Detection/keras_retinanet/backend/tensorflow_backend.py:46: add_dispatch_support.<locals>.wrapper (from tensorflow.python.ops.array_ops) is deprecated and will be removed in a future version.\n",
      "Instructions for updating:\n",
      "Use tf.where in 2.0, which has the same broadcast rule as np.where\n",
      "WARNING:tensorflow:From /anaconda3/envs/rectify/lib/python3.7/site-packages/keras/backend/tensorflow_backend.py:422: The name tf.global_variables is deprecated. Please use tf.compat.v1.global_variables instead.\n",
      "\n",
      "WARNING:tensorflow:From /anaconda3/envs/rectify/lib/python3.7/site-packages/tensorflow/python/ops/init_ops.py:1251: calling VarianceScaling.__init__ (from tensorflow.python.ops.init_ops) with dtype is deprecated and will be removed in a future version.\n",
      "Instructions for updating:\n",
      "Call initializer instance with the dtype argument instead of passing it to the constructor\n",
      "Item Added.\n",
      "Done.\n",
      "Done.\n",
      "['mixing_bowl']\n"
     ]
    },
    {
     "ename": "KeyboardInterrupt",
     "evalue": "",
     "output_type": "error",
     "traceback": [
      "\u001b[0;31m---------------------------------------------------------------------------\u001b[0m",
      "\u001b[0;31mKeyboardInterrupt\u001b[0m                         Traceback (most recent call last)",
      "\u001b[0;32m<ipython-input-9-a7a887ac19a6>\u001b[0m in \u001b[0;36m<module>\u001b[0;34m\u001b[0m\n\u001b[1;32m     13\u001b[0m \u001b[0;34m\u001b[0m\u001b[0m\n\u001b[1;32m     14\u001b[0m     \u001b[0mlatest_date\u001b[0m \u001b[0;34m=\u001b[0m \u001b[0msorted\u001b[0m\u001b[0;34m(\u001b[0m\u001b[0;34m[\u001b[0m\u001b[0mb\u001b[0m\u001b[0;34m[\u001b[0m\u001b[0;34m'last_modified'\u001b[0m\u001b[0;34m]\u001b[0m \u001b[0;32mfor\u001b[0m \u001b[0mb\u001b[0m \u001b[0;32min\u001b[0m \u001b[0mblobs\u001b[0m\u001b[0;34m]\u001b[0m\u001b[0;34m)\u001b[0m\u001b[0;34m[\u001b[0m\u001b[0;34m-\u001b[0m\u001b[0;36m1\u001b[0m\u001b[0;34m]\u001b[0m\u001b[0;34m\u001b[0m\u001b[0;34m\u001b[0m\u001b[0m\n\u001b[0;32m---> 15\u001b[0;31m     \u001b[0mtime\u001b[0m\u001b[0;34m.\u001b[0m\u001b[0msleep\u001b[0m\u001b[0;34m(\u001b[0m\u001b[0;36m1\u001b[0m\u001b[0;34m)\u001b[0m\u001b[0;34m\u001b[0m\u001b[0;34m\u001b[0m\u001b[0m\n\u001b[0m\u001b[1;32m     16\u001b[0m     \u001b[0;31m# new container client\u001b[0m\u001b[0;34m\u001b[0m\u001b[0;34m\u001b[0m\u001b[0;34m\u001b[0m\u001b[0m\n\u001b[1;32m     17\u001b[0m     \u001b[0mcontainer_client\u001b[0m \u001b[0;34m=\u001b[0m \u001b[0mblob_service_client\u001b[0m\u001b[0;34m.\u001b[0m\u001b[0mget_container_client\u001b[0m\u001b[0;34m(\u001b[0m\u001b[0mcontainer_name\u001b[0m\u001b[0;34m)\u001b[0m\u001b[0;34m\u001b[0m\u001b[0;34m\u001b[0m\u001b[0m\n",
      "\u001b[0;31mKeyboardInterrupt\u001b[0m: "
     ]
    }
   ],
   "source": [
    "import time\n",
    "image_history = []\n",
    "obj_list_history = []\n",
    "SSIM_THRESH = 0.5\n",
    "\n",
    "while True:\n",
    "    # get latest date\n",
    "    container_client = blob_service_client.get_container_client(container_name)\n",
    "    container_client.list_blobs()\n",
    "    blobs = []\n",
    "    for i in container_client.list_blobs():\n",
    "        blobs.append(i)\n",
    "        \n",
    "    latest_date = sorted([b['last_modified'] for b in blobs])[-1]\n",
    "    time.sleep(1)\n",
    "    # new container client\n",
    "    container_client = blob_service_client.get_container_client(container_name)\n",
    "    #container_client.list_blobs()\n",
    "    #blobs = []\n",
    "    #for i in container_client.list_blobs():\n",
    "        #blobs.append(i)\n",
    "    #print(\"Num blobs: {}\".format(len(blobs)))\n",
    "    \n",
    "    for blob in container_client.list_blobs():\n",
    "        name = blob['name']\n",
    "        t = blob['last_modified']\n",
    "        if name not in image_history and t > latest_date:\n",
    "            blob_client = blob_service_client.get_blob_client(container=container_name, blob=name)\n",
    "            # save current image\n",
    "            this_name = 'real_time/{}.jpg'.format(int(time.time()))\n",
    "            with open(this_name, 'wb') as f:\n",
    "                f.write(blob_client.download_blob().readall())\n",
    "                \n",
    "            time.sleep(1)\n",
    "            if len(os.listdir('real_time'))!=0:\n",
    "                last_img = sorted(os.listdir('real_time'))[-2]\n",
    "                if last_img != '.DS_Store':\n",
    "                    last_img = io.imread('real_time/{}'.format(last_img))\n",
    "                    current_img_name = sorted(os.listdir('real_time'))[-1]\n",
    "                    current_img = io.imread('real_time/{}'.format(current_img_name))\n",
    "                    sim_idx = ssim(last_img, current_img, multichannel=True)\n",
    "                    print(sim_idx)\n",
    "                    if sim_idx <= 0.8:\n",
    "                        shutil.rmtree(execution_path+\"/adian\")\n",
    "                        os.makedirs(execution_path+\"/adian\")\n",
    "                        print(\"New event found!!!!\")\n",
    "                        \n",
    "                        fname = 'real_time/{}'.format(current_img_name)\n",
    "                        obj_list = get_object_list(fname)\n",
    "                        new_objs = [i for i in obj_list if i not in obj_list_history]\n",
    "                        obj_list_history = obj_list_history + new_objs\n",
    "                        check_recycle(new_objs, fname)\n",
    "                        print(obj_list_history)\n",
    "                        \n",
    "            image_history.append(name)"
   ]
  },
  {
   "cell_type": "code",
   "execution_count": 4,
   "metadata": {},
   "outputs": [
    {
     "name": "stdout",
     "output_type": "stream",
     "text": [
      "tracking <tf.Variable 'Variable_5:0' shape=(9, 4) dtype=float32> anchors\n",
      "tracking <tf.Variable 'Variable_6:0' shape=(9, 4) dtype=float32> anchors\n",
      "tracking <tf.Variable 'Variable_7:0' shape=(9, 4) dtype=float32> anchors\n",
      "tracking <tf.Variable 'Variable_8:0' shape=(9, 4) dtype=float32> anchors\n",
      "tracking <tf.Variable 'Variable_9:0' shape=(9, 4) dtype=float32> anchors\n",
      "stingray  :  42.54031479358673\n",
      "walking_stick  :  66.25839471817017\n"
     ]
    }
   ],
   "source": [
    "obj_list = get_object_list('figs/final/31.jpg')"
   ]
  },
  {
   "cell_type": "code",
   "execution_count": 5,
   "metadata": {},
   "outputs": [
    {
     "data": {
      "text/plain": [
       "[]"
      ]
     },
     "execution_count": 5,
     "metadata": {},
     "output_type": "execute_result"
    }
   ],
   "source": [
    "obj_list"
   ]
  },
  {
   "cell_type": "code",
   "execution_count": null,
   "metadata": {},
   "outputs": [],
   "source": []
  }
 ],
 "metadata": {
  "kernelspec": {
   "display_name": "Python 3",
   "language": "python",
   "name": "python3"
  },
  "language_info": {
   "codemirror_mode": {
    "name": "ipython",
    "version": 3
   },
   "file_extension": ".py",
   "mimetype": "text/x-python",
   "name": "python",
   "nbconvert_exporter": "python",
   "pygments_lexer": "ipython3",
   "version": "3.7.6"
  }
 },
 "nbformat": 4,
 "nbformat_minor": 2
}
