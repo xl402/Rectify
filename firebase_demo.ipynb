{
 "cells": [
  {
   "cell_type": "raw",
   "metadata": {},
   "source": [
    "curl -X PUT -d '{\n",
    "  \"alanisawesome\": {\n",
    "    \"name\": \"Alan Turing\",\n",
    "    \"birthday\": \"June 23, 1912\"\n",
    "  }\n",
    "}' 'https://rectify-hack.firebaseio.com/users.json'"
   ]
  },
  {
   "cell_type": "code",
   "execution_count": 40,
   "metadata": {},
   "outputs": [],
   "source": [
    "import requests\n",
    "import json\n",
    "import time\n",
    "import base64"
   ]
  },
  {
   "cell_type": "code",
   "execution_count": 41,
   "metadata": {},
   "outputs": [],
   "source": [
    "with open('figs/my_man.png', 'rb') as f:\n",
    "    image_encoded = base64.b64encode(f.read())"
   ]
  },
  {
   "cell_type": "code",
   "execution_count": 43,
   "metadata": {},
   "outputs": [
    {
     "name": "stdout",
     "output_type": "stream",
     "text": [
      "{\"name\":\"-Lypxed9LFzL1N0IifEP\"}\n"
     ]
    }
   ],
   "source": [
    "url = 'https://rectify-hack.firebaseio.com/main.json'\n",
    "myobj = {\n",
    "  str(int(time.time())): {\n",
    "    \"Image\": str(image_encoded),\n",
    "    \"Label\": 0\n",
    "  }\n",
    "}\n",
    "\n",
    "x = requests.post(url, data = json.dumps(myobj))\n",
    "\n",
    "print(x.text)"
   ]
  },
  {
   "cell_type": "code",
   "execution_count": 44,
   "metadata": {},
   "outputs": [],
   "source": [
    "y = requests.get('https://rectify-hack.firebaseio.com/main.json?print=pretty').json()"
   ]
  },
  {
   "cell_type": "code",
   "execution_count": 54,
   "metadata": {},
   "outputs": [],
   "source": [
    "im_str = y['-Lypxed9LFzL1N0IifEP']['1579305838']['Image']\n",
    "imgdata = base64.b64decode(im_str)"
   ]
  },
  {
   "cell_type": "code",
   "execution_count": null,
   "metadata": {},
   "outputs": [],
   "source": []
  }
 ],
 "metadata": {
  "kernelspec": {
   "display_name": "Python 3",
   "language": "python",
   "name": "python3"
  },
  "language_info": {
   "codemirror_mode": {
    "name": "ipython",
    "version": 3
   },
   "file_extension": ".py",
   "mimetype": "text/x-python",
   "name": "python",
   "nbconvert_exporter": "python",
   "pygments_lexer": "ipython3",
   "version": "3.7.6"
  }
 },
 "nbformat": 4,
 "nbformat_minor": 2
}
