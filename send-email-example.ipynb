{
 "cells": [
  {
   "cell_type": "code",
   "execution_count": 1,
   "metadata": {},
   "outputs": [],
   "source": [
    "import smtplib\n",
    "import os\n",
    "import json\n",
    "import imghdr\n",
    "from email.message import EmailMessage"
   ]
  },
  {
   "cell_type": "markdown",
   "metadata": {},
   "source": [
    "Whole thing based on https://www.youtube.com/watch?v=JRCJ6RtE3xU\n",
    "\n",
    "Need to make sure we **do not** expose any passwords on github, **Adian ;)**"
   ]
  },
  {
   "cell_type": "code",
   "execution_count": 2,
   "metadata": {},
   "outputs": [],
   "source": [
    "with open('secret.json') as json_file:\n",
    "    env_variables = json.load(json_file)\n",
    "    os.environ['EMAIL_ADD'] = env_variables['EMAIL_ADD']\n",
    "    os.environ['EMAIL_PASS'] = env_variables['EMAIL_PASS']"
   ]
  },
  {
   "cell_type": "code",
   "execution_count": 3,
   "metadata": {},
   "outputs": [],
   "source": [
    "EMAIL_ADD = os.environ.get('EMAIL_ADD')\n",
    "EMAIL_PASS = os.environ.get('EMAIL_PASS')"
   ]
  },
  {
   "cell_type": "code",
   "execution_count": 4,
   "metadata": {},
   "outputs": [],
   "source": [
    "msg = EmailMessage()\n",
    "msg['Subject'] = 'Image example'\n",
    "msg['From'] = EMAIL_ADD\n",
    "msg['To'] = 'rectify.hackathon@gmail.com'\n",
    "msg.set_content('Image attached...')"
   ]
  },
  {
   "cell_type": "code",
   "execution_count": 5,
   "metadata": {},
   "outputs": [],
   "source": [
    "files = ['figs/my_man.png', 'figs/my_bin.png']\n",
    "\n",
    "for file in files:\n",
    "    with open(file, 'rb') as f:\n",
    "        file_data = f.read()\n",
    "        file_type = imghdr.what(f.name)\n",
    "        file_name = f.name\n",
    "    msg.add_attachment(file_data, maintype='image', subtype=file_type, filename=file_name)"
   ]
  },
  {
   "cell_type": "code",
   "execution_count": 6,
   "metadata": {},
   "outputs": [],
   "source": [
    "with smtplib.SMTP_SSL('smtp.gmail.com', 465) as smtp:\n",
    "    \n",
    "    smtp.login(EMAIL_ADD, EMAIL_PASS)\n",
    "    \n",
    "    # Args: sender, reciever, message\n",
    "    smtp.send_message(msg)"
   ]
  },
  {
   "cell_type": "markdown",
   "metadata": {},
   "source": [
    "For code testing, can . go onterminal: `python3 -m smtpd -c DebuggingServer -n localhost:1025`, then:"
   ]
  },
  {
   "cell_type": "raw",
   "metadata": {},
   "source": [
    "with smtplib.SMTP('localhost', 1234) as smtp:\n",
    "    \n",
    "    subject = 'Grab dinner this weekend?'\n",
    "    body = 'How about dinner with your mother this Saturday?'\n",
    "    \n",
    "    msg = f'Subject: {subject}\\n\\n{body}'\n",
    "    \n",
    "    # Args: sender, reciever, message\n",
    "    smtp.sendmail(EMAIL_ADD, 'rectify.hackathon@gmail.com', msg)"
   ]
  },
  {
   "cell_type": "code",
   "execution_count": null,
   "metadata": {},
   "outputs": [],
   "source": []
  }
 ],
 "metadata": {
  "kernelspec": {
   "display_name": "Python 3",
   "language": "python",
   "name": "python3"
  },
  "language_info": {
   "codemirror_mode": {
    "name": "ipython",
    "version": 3
   },
   "file_extension": ".py",
   "mimetype": "text/x-python",
   "name": "python",
   "nbconvert_exporter": "python",
   "pygments_lexer": "ipython3",
   "version": "3.7.6"
  }
 },
 "nbformat": 4,
 "nbformat_minor": 2
}
